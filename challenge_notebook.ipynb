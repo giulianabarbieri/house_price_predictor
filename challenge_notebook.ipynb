{
 "cells": [
  {
   "cell_type": "code",
   "execution_count": null,
   "id": "95fee47a",
   "metadata": {},
   "outputs": [],
   "source": [
    "import hsm\n",
    "hsm_obj = hsm.HouseScorerModel(\"challenge_houses-prices.csv\")\n",
    "df = hsm_obj.data"
   ]
  },
  {
   "cell_type": "code",
   "execution_count": null,
   "id": "c0f4c3c2",
   "metadata": {},
   "outputs": [],
   "source": [
    "df.head()"
   ]
  },
  {
   "cell_type": "code",
   "execution_count": null,
   "id": "1da396f7",
   "metadata": {},
   "outputs": [],
   "source": [
    "fit_model = hsm_obj.fit()"
   ]
  },
  {
   "cell_type": "code",
   "execution_count": null,
   "id": "48474435",
   "metadata": {},
   "outputs": [],
   "source": [
    "print(hsm_obj.get_model_performance())"
   ]
  },
  {
   "cell_type": "code",
   "execution_count": null,
   "id": "495bb681",
   "metadata": {},
   "outputs": [],
   "source": [
    "data_point = {\n",
    "    \"garage_area\": 547,\n",
    "    \"overall_quality\": 6,\n",
    "    \"overall_condition\": 5,\n",
    "    \"bsmt_area\": 621,\n",
    "    \"property_area\": 2016,\n",
    "    \"bath_area\": 2.5,\n",
    "    \"has_pool\": 0,\n",
    "    \"has_porch\": 1,\n",
    "    \"has_2ndfloor\": 1,\n",
    "    \"has_multiple_kitchen\": 0,\n",
    "    \"liv_lot_ratio\": 0.0,\n",
    "    \"spaciousness\": 245.0,\n",
    "    \"house_age\": 14,\n",
    "    \"remodel_age\": 11,\n",
    "    \"garage_age\": 15.0,\n",
    "    \"neighborhood\": \"Gilbert\",\n",
    "    \"house_style\": \"2Story\",\n",
    "}"
   ]
  },
  {
   "cell_type": "code",
   "execution_count": null,
   "id": "9ff1a3e2",
   "metadata": {},
   "outputs": [],
   "source": [
    "print(hsm_obj.get_prediction(data_point))"
   ]
  }
 ],
 "metadata": {
  "kernelspec": {
   "display_name": "Python 3 (ipykernel)",
   "language": "python",
   "name": "python3"
  },
  "language_info": {
   "codemirror_mode": {
    "name": "ipython",
    "version": 3
   },
   "file_extension": ".py",
   "mimetype": "text/x-python",
   "name": "python",
   "nbconvert_exporter": "python",
   "pygments_lexer": "ipython3",
   "version": "3.7.4"
  }
 },
 "nbformat": 4,
 "nbformat_minor": 5
}
